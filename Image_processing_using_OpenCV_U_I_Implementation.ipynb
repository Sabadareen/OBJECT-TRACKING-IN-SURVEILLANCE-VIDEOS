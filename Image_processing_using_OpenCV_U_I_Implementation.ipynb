{
  "nbformat": 4,
  "nbformat_minor": 0,
  "metadata": {
    "colab": {
      "provenance": [],
      "authorship_tag": "ABX9TyPrnH2kPz1+N8+iELgY32QW",
      "include_colab_link": true
    },
    "kernelspec": {
      "name": "python3",
      "display_name": "Python 3"
    },
    "language_info": {
      "name": "python"
    }
  },
  "cells": [
    {
      "cell_type": "markdown",
      "metadata": {
        "id": "view-in-github",
        "colab_type": "text"
      },
      "source": [
        "<a href=\"https://colab.research.google.com/github/Sabadareen/OBJECT-TRACKING-IN-SURVEILLANCE-VIDEOS/blob/main/Image_processing_using_OpenCV_U_I_Implementation.ipynb\" target=\"_parent\"><img src=\"https://colab.research.google.com/assets/colab-badge.svg\" alt=\"Open In Colab\"/></a>"
      ]
    },
    {
      "cell_type": "code",
      "source": [
        "pip install gradio"
      ],
      "metadata": {
        "id": "u16a3P_43Z7_"
      },
      "execution_count": null,
      "outputs": []
    },
    {
      "cell_type": "code",
      "source": [
        "import gradio as gr\n",
        "import cv2\n",
        "import numpy as np\n",
        "import matplotlib.pyplot as plt\n",
        "from io import BytesIO\n",
        "from PIL import Image\n",
        "\n",
        "def process_image(image):\n",
        "    # Convert PIL Image to OpenCV format\n",
        "    img = np.array(image)\n",
        "\n",
        "    if img.shape[-1] == 4:  # Handle RGBA images\n",
        "        img = cv2.cvtColor(img, cv2.COLOR_RGBA2RGB)\n",
        "\n",
        "    # Separate RGB channels with colored backgrounds\n",
        "    red_channel = np.zeros_like(img)\n",
        "    red_channel[:, :, 0] = img[:, :, 0]  # Keep only red channel\n",
        "\n",
        "    green_channel = np.zeros_like(img)\n",
        "    green_channel[:, :, 1] = img[:, :, 1]  # Keep only green channel\n",
        "\n",
        "    blue_channel = np.zeros_like(img)\n",
        "    blue_channel[:, :, 2] = img[:, :, 2]  # Keep only blue channel\n",
        "\n",
        "    # Convert RGB to BGR\n",
        "    img_bgr = cv2.cvtColor(img, cv2.COLOR_RGB2BGR)\n",
        "\n",
        "    # Apply blur\n",
        "    blurred = cv2.GaussianBlur(img, (15, 15), 0)\n",
        "\n",
        "    # Generate histogram\n",
        "    histogram = generate_histogram(img)\n",
        "\n",
        "    return (\n",
        "        Image.fromarray(red_channel),\n",
        "        Image.fromarray(green_channel),\n",
        "        Image.fromarray(blue_channel),\n",
        "        Image.fromarray(img_bgr),\n",
        "        Image.fromarray(blurred),\n",
        "        histogram\n",
        "    )\n",
        "\n",
        "def generate_histogram(image):\n",
        "    # Flatten image array and calculate histogram\n",
        "    colors = ('r', 'g', 'b')\n",
        "    plt.figure()\n",
        "    for i, color in enumerate(colors):\n",
        "        hist = cv2.calcHist([image], [i], None, [256], [0, 256])\n",
        "        plt.plot(hist, color=color)\n",
        "    plt.title('Color Histogram')\n",
        "    plt.xlabel('Pixel Value')\n",
        "    plt.ylabel('Frequency')\n",
        "\n",
        "    # Save histogram to a buffer\n",
        "    buf = BytesIO()\n",
        "    plt.savefig(buf, format='png')\n",
        "    buf.seek(0)\n",
        "    plt.close()\n",
        "    return Image.open(buf)\n",
        "\n",
        "# Gradio Interface\n",
        "iface = gr.Interface(\n",
        "    fn=process_image,\n",
        "    inputs=gr.Image(type=\"pil\"),\n",
        "    outputs=[\n",
        "        gr.Image(type=\"pil\", label=\"Red Channel\"),\n",
        "        gr.Image(type=\"pil\", label=\"Green Channel\"),\n",
        "        gr.Image(type=\"pil\", label=\"Blue Channel\"),\n",
        "        gr.Image(type=\"pil\", label=\"BGR Image\"),\n",
        "        gr.Image(type=\"pil\", label=\"Blurred Image\"),\n",
        "        gr.Image(type=\"pil\", label=\"Histogram\")\n",
        "    ],\n",
        "    title=\"Image Processing with Gradio\",\n",
        "    description=\"Upload an image to extract RGB channels with colored backgrounds, convert RGB to BGR, apply blur, and view the histogram.\"\n",
        ")\n",
        "\n",
        "iface.launch()\n"
      ],
      "metadata": {
        "colab": {
          "base_uri": "https://localhost:8080/",
          "height": 646
        },
        "id": "6RFyhAGl4nm3",
        "outputId": "897b4031-235c-4bbb-de0a-cc47e2b9a02d"
      },
      "execution_count": null,
      "outputs": [
        {
          "output_type": "stream",
          "name": "stdout",
          "text": [
            "Running Gradio in a Colab notebook requires sharing enabled. Automatically setting `share=True` (you can turn this off by setting `share=False` in `launch()` explicitly).\n",
            "\n",
            "Colab notebook detected. To show errors in colab notebook, set debug=True in launch()\n",
            "* Running on public URL: https://3a3c468ef174671f71.gradio.live\n",
            "\n",
            "This share link expires in 72 hours. For free permanent hosting and GPU upgrades, run `gradio deploy` from the terminal in the working directory to deploy to Hugging Face Spaces (https://huggingface.co/spaces)\n"
          ]
        },
        {
          "output_type": "display_data",
          "data": {
            "text/plain": [
              "<IPython.core.display.HTML object>"
            ],
            "text/html": [
              "<div><iframe src=\"https://3a3c468ef174671f71.gradio.live\" width=\"100%\" height=\"500\" allow=\"autoplay; camera; microphone; clipboard-read; clipboard-write;\" frameborder=\"0\" allowfullscreen></iframe></div>"
            ]
          },
          "metadata": {}
        },
        {
          "output_type": "execute_result",
          "data": {
            "text/plain": []
          },
          "metadata": {},
          "execution_count": 3
        }
      ]
    }
  ]
}